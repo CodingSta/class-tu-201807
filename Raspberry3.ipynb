{
 "cells": [
  {
   "cell_type": "markdown",
   "metadata": {},
   "source": [
    "## 라즈베리파이3\n",
    "\n",
    "+ 부팅해서, `country`, `암호` 설정\n",
    "+ 리부팅\n",
    "+ 터미널에서 `sudo raspi-config` 실행\n",
    "    - SSH와 Camera 활성화"
   ]
  },
  {
   "cell_type": "markdown",
   "metadata": {},
   "source": [
    "### 고정 아이피 설정\n",
    "\n",
    "`/etc/dhcpcd.conf` 에 추가 : 명령 `sudo nano /etc/dhcpcd.conf`\n",
    "\n",
    "```\n",
    "interface eth0\n",
    "static ip_address=203.247.198.203/24\n",
    "static routers=203.247.198.1\n",
    "static domain_name_servers=168.126.63.1 8.8.8.8\n",
    "```\n",
    "\n",
    "지정하고, 리부팅\n",
    "\n",
    "```\n",
    "sudo reboot\n",
    "```"
   ]
  },
  {
   "cell_type": "markdown",
   "metadata": {},
   "source": [
    "### SSH 접속\n",
    "\n",
    "+ 유저명@호스트 : `pi@라즈베리파이아이피`\n",
    "+ 포트 : 22\n",
    "+ 암호 : 지정하신 암호"
   ]
  },
  {
   "cell_type": "markdown",
   "metadata": {},
   "source": [
    "### picamera 샘플 코드\n",
    "\n",
    "```python\n",
    "# sample_picamera_01.py\n",
    "\n",
    "import time\n",
    "from picamera import PiCamera\n",
    "\n",
    "camera = PiCamera()\n",
    "camera.start_preview()\n",
    "print('sleep 3 seconds ...')\n",
    "time.sleep(3)\n",
    "print('captured')\n",
    "camera.capture('capture.jpg')\n",
    "camera.stop_preview()\n",
    "camera.close()\n",
    "```"
   ]
  },
  {
   "cell_type": "markdown",
   "metadata": {},
   "source": [
    "실행\n",
    "\n",
    "```\n",
    "python3 sample_picamera_01.py\n",
    "```"
   ]
  },
  {
   "cell_type": "markdown",
   "metadata": {},
   "source": [
    "### 비디오 녹화\n",
    "\n",
    "```\n",
    "```"
   ]
  },
  {
   "cell_type": "markdown",
   "metadata": {},
   "source": [
    "h.264 비디오 파일 재생\n",
    "\n",
    "```\n",
    "omxplayer 파일경로\n",
    "```"
   ]
  },
  {
   "cell_type": "markdown",
   "metadata": {},
   "source": [
    "### Jupyter 설치\n",
    "\n",
    "```\n",
    "pip3 install jupyter\n",
    "```\n",
    "\n",
    "현재 jupyter 명령은 `~/.local/bin` 에 저장\n",
    "\n",
    "그런데, 환경변수 `PATH`에 위 경로가 없어서, jupyter 명령 실행이 안 되고 있음.\n",
    "\n",
    "현재 쉘에 대한 환경설정 파일에 다음 코드를 추가 : ex) `~/.bashrc`\n",
    "\n",
    "```sh\n",
    "export PATH=${HOME}/.local/bin:${PATH}\n",
    "```\n",
    "\n",
    "위 코드를 추가하시고, `source ~/.bashrc` 명령을 통해, 재로딩\n",
    "\n",
    "```sh\n",
    "jupyter notebook password   # 암호 지정\n",
    "jupyter notebook --ip=0.0.0.0\n",
    "```"
   ]
  },
  {
   "cell_type": "markdown",
   "metadata": {},
   "source": [
    "### 서버에서 winscp를 통한 파일 시스템 접근\n",
    "\n",
    "https://winscp.net\n",
    "\n",
    "ssh는 sftp 프로토콜을 지원하고있습니다. 이를 통해 파일/디렉토리를 업로드/다운로드를 수행하실 수 있습니다.\n",
    "\n",
    "미션\n",
    "\n",
    "+ 여러분의 라즈베리파이3 상의 `capture.jpg` 파일을 로컬로 복사해보세요."
   ]
  },
  {
   "cell_type": "markdown",
   "metadata": {},
   "source": [
    "## AWS Rekognition"
   ]
  },
  {
   "cell_type": "markdown",
   "metadata": {},
   "source": [
    "IAM -> Add User\n",
    "\n",
    "raspberry3 이름의 User\n",
    "\n",
    " + Programatic Access\n",
    " + Permission : AmazonRekognitionFullAccess\n",
    " \n",
    "**Access Key ID**와 **Secret Access Key**를 잘 메모해두세요."
   ]
  },
  {
   "cell_type": "code",
   "execution_count": 14,
   "metadata": {},
   "outputs": [],
   "source": [
    "import boto3\n",
    "\n",
    "# TODO: access key, secret access key, region 지정\n",
    "import os\n",
    "os.environ['AWS_ACCESS_KEY_ID'] = ''\n",
    "os.environ['AWS_SECRET_ACCESS_KEY'] = ''\n",
    "os.environ['AWS_DEFAULT_REGION'] = 'ap-northeast-1'  # Tokyo\n",
    "\n",
    "client = boto3.client('rekognition')"
   ]
  },
  {
   "cell_type": "code",
   "execution_count": null,
   "metadata": {
    "scrolled": true
   },
   "outputs": [],
   "source": [
    "with open(\"1.jpg\", \"rb\") as f:\n",
    "    image_data = f.read()\n",
    "\n",
    "client.detect_labels(Image={'Bytes': image_data})"
   ]
  },
  {
   "cell_type": "code",
   "execution_count": 20,
   "metadata": {},
   "outputs": [
    {
     "data": {
      "text/plain": [
       "{'FaceDetails': [{'BoundingBox': {'Width': 0.17555555701255798,\n",
       "    'Height': 0.263145387172699,\n",
       "    'Left': 0.4611110985279083,\n",
       "    'Top': 0.12157982587814331},\n",
       "   'AgeRange': {'Low': 35, 'High': 52},\n",
       "   'Smile': {'Value': True, 'Confidence': 65.72525787353516},\n",
       "   'Eyeglasses': {'Value': False, 'Confidence': 99.81666564941406},\n",
       "   'Sunglasses': {'Value': False, 'Confidence': 99.83206939697266},\n",
       "   'Gender': {'Value': 'Male', 'Confidence': 99.92861938476562},\n",
       "   'Beard': {'Value': False, 'Confidence': 64.11399841308594},\n",
       "   'Mustache': {'Value': True, 'Confidence': 82.99322509765625},\n",
       "   'EyesOpen': {'Value': True, 'Confidence': 99.03519439697266},\n",
       "   'MouthOpen': {'Value': False, 'Confidence': 99.98152923583984},\n",
       "   'Emotions': [{'Type': 'HAPPY', 'Confidence': 45.8049430847168},\n",
       "    {'Type': 'CALM', 'Confidence': 7.305383682250977},\n",
       "    {'Type': 'CONFUSED', 'Confidence': 5.979972839355469}],\n",
       "   'Landmarks': [{'Type': 'eyeLeft',\n",
       "     'X': 0.5216698050498962,\n",
       "     'Y': 0.22411632537841797},\n",
       "    {'Type': 'eyeRight', 'X': 0.575728178024292, 'Y': 0.21736478805541992},\n",
       "    {'Type': 'nose', 'X': 0.5535880327224731, 'Y': 0.2664846181869507},\n",
       "    {'Type': 'mouthLeft', 'X': 0.5328627228736877, 'Y': 0.320022851228714},\n",
       "    {'Type': 'mouthRight', 'X': 0.5723418593406677, 'Y': 0.31692999601364136},\n",
       "    {'Type': 'leftPupil', 'X': 0.5260263681411743, 'Y': 0.22157248854637146},\n",
       "    {'Type': 'rightPupil', 'X': 0.5795407295227051, 'Y': 0.2180114984512329},\n",
       "    {'Type': 'leftEyeBrowLeft',\n",
       "     'X': 0.5011909008026123,\n",
       "     'Y': 0.20000623166561127},\n",
       "    {'Type': 'leftEyeBrowUp',\n",
       "     'X': 0.5164979100227356,\n",
       "     'Y': 0.18938058614730835},\n",
       "    {'Type': 'leftEyeBrowRight',\n",
       "     'X': 0.5345507264137268,\n",
       "     'Y': 0.18894827365875244},\n",
       "    {'Type': 'rightEyeBrowLeft',\n",
       "     'X': 0.5670588612556458,\n",
       "     'Y': 0.18386954069137573},\n",
       "    {'Type': 'rightEyeBrowUp',\n",
       "     'X': 0.5812278389930725,\n",
       "     'Y': 0.179478257894516},\n",
       "    {'Type': 'rightEyeBrowRight',\n",
       "     'X': 0.5942466259002686,\n",
       "     'Y': 0.1889682114124298},\n",
       "    {'Type': 'leftEyeLeft', 'X': 0.5113560557365417, 'Y': 0.22587376832962036},\n",
       "    {'Type': 'leftEyeRight',\n",
       "     'X': 0.5315244793891907,\n",
       "     'Y': 0.22348113358020782},\n",
       "    {'Type': 'leftEyeUp', 'X': 0.5213990807533264, 'Y': 0.21901211142539978},\n",
       "    {'Type': 'leftEyeDown', 'X': 0.5221703052520752, 'Y': 0.22865945100784302},\n",
       "    {'Type': 'rightEyeLeft', 'X': 0.5657188892364502, 'Y': 0.2197159230709076},\n",
       "    {'Type': 'rightEyeRight',\n",
       "     'X': 0.5851409435272217,\n",
       "     'Y': 0.21640196442604065},\n",
       "    {'Type': 'rightEyeUp', 'X': 0.5753926634788513, 'Y': 0.21175964176654816},\n",
       "    {'Type': 'rightEyeDown', 'X': 0.5763618350028992, 'Y': 0.2222757786512375},\n",
       "    {'Type': 'noseLeft', 'X': 0.5413283109664917, 'Y': 0.2861265242099762},\n",
       "    {'Type': 'noseRight', 'X': 0.5643779039382935, 'Y': 0.2835603952407837},\n",
       "    {'Type': 'mouthUp', 'X': 0.5544204115867615, 'Y': 0.3119201958179474},\n",
       "    {'Type': 'mouthDown', 'X': 0.5546610951423645, 'Y': 0.3355780839920044}],\n",
       "   'Pose': {'Roll': -5.567401885986328,\n",
       "    'Yaw': 6.308406352996826,\n",
       "    'Pitch': 3.8230693340301514},\n",
       "   'Quality': {'Brightness': 51.694942474365234,\n",
       "    'Sharpness': 99.97486114501953},\n",
       "   'Confidence': 99.99598693847656}],\n",
       " 'OrientationCorrection': 'ROTATE_0',\n",
       " 'ResponseMetadata': {'RequestId': '91a5ec2d-8be2-11e8-85bc-2d07b67721c1',\n",
       "  'HTTPStatusCode': 200,\n",
       "  'HTTPHeaders': {'content-type': 'application/x-amz-json-1.1',\n",
       "   'date': 'Fri, 20 Jul 2018 06:03:06 GMT',\n",
       "   'x-amzn-requestid': '91a5ec2d-8be2-11e8-85bc-2d07b67721c1',\n",
       "   'content-length': '2763',\n",
       "   'connection': 'keep-alive'},\n",
       "  'RetryAttempts': 0}}"
      ]
     },
     "execution_count": 20,
     "metadata": {},
     "output_type": "execute_result"
    }
   ],
   "source": [
    "# 전 멤버에 대해서 각자 사진을 2장씩 (다른 포즈) 찍어서 해보세요.\n",
    "\n",
    "with open(\"마동석.jpg\", \"rb\") as f:\n",
    "    image_data = f.read()\n",
    "\n",
    "client.detect_faces(Image={'Bytes': image_data}, Attributes=['ALL'])"
   ]
  },
  {
   "cell_type": "markdown",
   "metadata": {},
   "source": [
    "### 성인 컨텐츠 탐지\n",
    "\n",
    "```python\n",
    "response = client.detect_moderation_labels(Image={'Bytes': image_data})\n",
    "```"
   ]
  },
  {
   "cell_type": "markdown",
   "metadata": {},
   "source": [
    "### 같은 얼굴 비교\n",
    "\n",
    "```python\n",
    "response = client.compare_faces(\n",
    "    SourceImage={'Bytes': image_data_1},\n",
    "    TargetImage={'Bytes': image_data_1},\n",
    ")\n",
    "\n",
    "matches = response['FaceMatches']\n",
    "if matches:\n",
    "    for match in matches:\n",
    "        similarity = match['Similarity']\n",
    "        print('유사도: {:.1f}%'.format(similarity))\n",
    "else:\n",
    "    print('매칭정보를 찾지 못했습니다.')\n",
    "\n",
    "response['FaceMatches']\n",
    "```"
   ]
  },
  {
   "cell_type": "markdown",
   "metadata": {},
   "source": [
    "## 얼굴 Collection"
   ]
  },
  {
   "cell_type": "code",
   "execution_count": 22,
   "metadata": {},
   "outputs": [],
   "source": [
    "COLLECTION_ID = 'tongmyong-students-group1'"
   ]
  },
  {
   "cell_type": "code",
   "execution_count": 23,
   "metadata": {},
   "outputs": [
    {
     "data": {
      "text/plain": [
       "{'StatusCode': 200,\n",
       " 'CollectionArn': 'aws:rekognition:ap-northeast-1:095307090881:collection/tongmyong-students-group1',\n",
       " 'FaceModelVersion': '3.0',\n",
       " 'ResponseMetadata': {'RequestId': '9608185f-8be3-11e8-85bc-2d07b67721c1',\n",
       "  'HTTPStatusCode': 200,\n",
       "  'HTTPHeaders': {'content-type': 'application/x-amz-json-1.1',\n",
       "   'date': 'Fri, 20 Jul 2018 06:10:21 GMT',\n",
       "   'x-amzn-requestid': '9608185f-8be3-11e8-85bc-2d07b67721c1',\n",
       "   'content-length': '142',\n",
       "   'connection': 'keep-alive'},\n",
       "  'RetryAttempts': 0}}"
      ]
     },
     "execution_count": 23,
     "metadata": {},
     "output_type": "execute_result"
    }
   ],
   "source": [
    "client.create_collection(CollectionId=COLLECTION_ID)"
   ]
  },
  {
   "cell_type": "code",
   "execution_count": null,
   "metadata": {},
   "outputs": [],
   "source": []
  },
  {
   "cell_type": "code",
   "execution_count": 25,
   "metadata": {},
   "outputs": [],
   "source": [
    "# FIXME: 각 학생 별로 아이디/사진 dict/list를 구성해주세요.\n",
    "# Key는 영어로만 지정해주세요.\n",
    "\n",
    "member_dict = {\n",
    "    'blackpink-rose': [\n",
    "        'faces/블랙핑크-로제-1.jpg',\n",
    "        'faces/블랙핑크-로제-2.jpg',\n",
    "    ],\n",
    "    'blackpink-lisa': [\n",
    "        'faces/블랙핑크-리사-1.jpg',\n",
    "        'faces/블랙핑크-리사-2.jpg',\n",
    "    ],\n",
    "    'blackpink-jeny': [\n",
    "        'faces/블랙핑크-제니-1.jpg',\n",
    "        'faces/블랙핑크-제니-2.jpg',\n",
    "    ],\n",
    "}"
   ]
  },
  {
   "cell_type": "code",
   "execution_count": 26,
   "metadata": {},
   "outputs": [
    {
     "name": "stdout",
     "output_type": "stream",
     "text": [
      "blackpink-rose ['faces/블랙핑크-로제-1.jpg', 'faces/블랙핑크-로제-2.jpg']\n",
      "blackpink-lisa ['faces/블랙핑크-리사-1.jpg', 'faces/블랙핑크-리사-2.jpg']\n",
      "blackpink-jeny ['faces/블랙핑크-제니-1.jpg', 'faces/블랙핑크-제니-2.jpg']\n"
     ]
    }
   ],
   "source": [
    "for (user_id, image_list) in member_dict.items():\n",
    "    print(user_id, image_list)"
   ]
  },
  {
   "cell_type": "code",
   "execution_count": 28,
   "metadata": {},
   "outputs": [
    {
     "name": "stdout",
     "output_type": "stream",
     "text": [
      "blackpink-rose ['faces/블랙핑크-로제-1.jpg', 'faces/블랙핑크-로제-2.jpg']\n",
      "indexing faces/블랙핑크-로제-1.jpg ...\n",
      "indexing faces/블랙핑크-로제-2.jpg ...\n",
      "blackpink-lisa ['faces/블랙핑크-리사-1.jpg', 'faces/블랙핑크-리사-2.jpg']\n",
      "indexing faces/블랙핑크-리사-1.jpg ...\n",
      "indexing faces/블랙핑크-리사-2.jpg ...\n",
      "blackpink-jeny ['faces/블랙핑크-제니-1.jpg', 'faces/블랙핑크-제니-2.jpg']\n",
      "indexing faces/블랙핑크-제니-1.jpg ...\n",
      "indexing faces/블랙핑크-제니-2.jpg ...\n",
      "completed!!!\n"
     ]
    }
   ],
   "source": [
    "for (user_id, image_list) in member_dict.items():\n",
    "    for image_path in image_list:\n",
    "        print('indexing {} ...'.format(image_path))\n",
    "        with open(image_path, 'rb') as f:\n",
    "            image_data = f.read()\n",
    "\n",
    "        client.index_faces(\n",
    "            CollectionId=COLLECTION_ID,\n",
    "            ExternalImageId=user_id,\n",
    "            Image={'Bytes': image_data},\n",
    "            DetectionAttributes=['ALL'])\n",
    "\n",
    "print('completed!!!')"
   ]
  },
  {
   "cell_type": "code",
   "execution_count": 30,
   "metadata": {},
   "outputs": [
    {
     "data": {
      "text/plain": [
       "[{'Similarity': 96.24583435058594,\n",
       "  'Face': {'FaceId': 'f8a2b9bd-07ae-40a8-a08d-e93a94d58eaa',\n",
       "   'BoundingBox': {'Width': 0.40384599566459656,\n",
       "    'Height': 0.40384599566459656,\n",
       "    'Left': 0.2961539924144745,\n",
       "    'Top': 0.06153849884867668},\n",
       "   'ImageId': '3965b545-c85d-5fa7-9fd3-04588e7b68d7',\n",
       "   'ExternalImageId': 'blackpink-lisa',\n",
       "   'Confidence': 99.71879577636719}},\n",
       " {'Similarity': 94.80065155029297,\n",
       "  'Face': {'FaceId': '4cf2c52a-368f-4af5-b77c-ed687e813b44',\n",
       "   'BoundingBox': {'Width': 0.30156201124191284,\n",
       "    'Height': 0.20104199647903442,\n",
       "    'Left': 0.30937498807907104,\n",
       "    'Top': 0.10312499850988388},\n",
       "   'ImageId': 'c5ef1331-bb97-56e1-9dcf-ae84b961a5a6',\n",
       "   'ExternalImageId': 'blackpink-lisa',\n",
       "   'Confidence': 99.9572982788086}}]"
      ]
     },
     "execution_count": 30,
     "metadata": {},
     "output_type": "execute_result"
    }
   ],
   "source": [
    "with open(\"faces/누구야.jpg\", \"rb\") as f:\n",
    "    image_data = f.read()\n",
    "\n",
    "response = client.search_faces_by_image(\n",
    "    CollectionId=COLLECTION_ID,\n",
    "    Image={'Bytes': image_data},\n",
    ")\n",
    "matches = response['FaceMatches']\n",
    "matches"
   ]
  },
  {
   "cell_type": "code",
   "execution_count": 33,
   "metadata": {},
   "outputs": [
    {
     "name": "stdout",
     "output_type": "stream",
     "text": [
      "99.71879577636719의 확률로 blackpink-lisa입니다.\n",
      "99.9572982788086의 확률로 blackpink-lisa입니다.\n"
     ]
    }
   ],
   "source": [
    "for face_meta in matches:\n",
    "    print('{}의 확률로 {}입니다.'.format(\n",
    "        face_meta['Face']['Confidence'],\n",
    "        face_meta['Face']['ExternalImageId']\n",
    "    ))"
   ]
  },
  {
   "cell_type": "code",
   "execution_count": null,
   "metadata": {},
   "outputs": [],
   "source": []
  }
 ],
 "metadata": {
  "kernelspec": {
   "display_name": "Python 3",
   "language": "python",
   "name": "python3"
  },
  "language_info": {
   "codemirror_mode": {
    "name": "ipython",
    "version": 3
   },
   "file_extension": ".py",
   "mimetype": "text/x-python",
   "name": "python",
   "nbconvert_exporter": "python",
   "pygments_lexer": "ipython3",
   "version": "3.6.5"
  }
 },
 "nbformat": 4,
 "nbformat_minor": 2
}

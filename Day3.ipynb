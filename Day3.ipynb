{
 "cells": [
  {
   "cell_type": "markdown",
   "metadata": {},
   "source": [
    "## Connect SSH to Goorm IDE\n",
    "\n",
    "+ [windows] PuTTy\n",
    "+ SSH Port : 22 (Well Known Port)\n",
    "\n",
    "### 한글 설정\n",
    "\n",
    "시스템 전체의 locale을 변경\n",
    "\n",
    "```\n",
    "sudo locale-gen ko_KR.UTF-8\n",
    "```\n",
    "\n",
    "`~/.bashrc` 파일에 다음 추가 (nano 혹은 vim 에디터 활용)\n",
    "\n",
    "```\n",
    "export LANG=ko_KR.UTF-8\n",
    "export LC_ALL=ko_KR.UTF-8\n",
    "```\n",
    "\n",
    "PuTTy 재접속"
   ]
  },
  {
   "cell_type": "code",
   "execution_count": null,
   "metadata": {
    "collapsed": true
   },
   "outputs": [],
   "source": []
  },
  {
   "cell_type": "markdown",
   "metadata": {},
   "source": [
    "## GitHub\n",
    "\n",
    "Public/Private Key"
   ]
  },
  {
   "cell_type": "markdown",
   "metadata": {
    "collapsed": true
   },
   "source": [
    "### Goorm IDE\n",
    "\n",
    "`ssh-keygen`  명령으로 비밀키/공개키를 만들었고, 공개키를 깃허브에 심었음."
   ]
  },
  {
   "cell_type": "markdown",
   "metadata": {},
   "source": [
    "git email/name을 세팅한 적이 없다면\n",
    "\n",
    "```\n",
    "git config --global user.name \"Chinseok Lee\"\n",
    "git config --global user.email \"me@askcompany.kr\"\n",
    "```"
   ]
  },
  {
   "cell_type": "markdown",
   "metadata": {},
   "source": [
    "프로젝트 디렉토리로 이동해서,\n",
    "\n",
    "```\n",
    "git init                     # git 관리 대상으로 지정\n",
    "git add Day1.ipynb           # git에서 관리할 파일을 지정\n",
    "git status                   # 현재 현황 보기\n",
    "git commit -m \"커밋 메세지\"  # add된 여러 파일들을 커밋\n",
    "git log                      # 로그 내역 보기\n",
    "```"
   ]
  },
  {
   "cell_type": "markdown",
   "metadata": {},
   "source": [
    "github 해당 저장소로 push\n",
    "\n",
    "```\n",
    "git remote add origin git@github.com:allieus/python-for-ml.git\n",
    "git push -u origin master\n",
    "```"
   ]
  },
  {
   "cell_type": "code",
   "execution_count": null,
   "metadata": {
    "collapsed": true
   },
   "outputs": [],
   "source": []
  },
  {
   "cell_type": "markdown",
   "metadata": {},
   "source": [
    "## re (regular expression)"
   ]
  },
  {
   "cell_type": "code",
   "execution_count": null,
   "metadata": {
    "collapsed": true
   },
   "outputs": [],
   "source": []
  },
  {
   "cell_type": "markdown",
   "metadata": {},
   "source": [
    "## Email\n",
    "\n",
    "https://github.com/vinta/awesome-python#email"
   ]
  },
  {
   "cell_type": "code",
   "execution_count": 2,
   "metadata": {
    "collapsed": true
   },
   "outputs": [],
   "source": [
    "import envelopes"
   ]
  },
  {
   "cell_type": "code",
   "execution_count": 3,
   "metadata": {
    "collapsed": true
   },
   "outputs": [],
   "source": [
    "from getpass import getpass"
   ]
  },
  {
   "cell_type": "code",
   "execution_count": 4,
   "metadata": {},
   "outputs": [
    {
     "name": "stdout",
     "output_type": "stream",
     "text": [
      "Enter password : ········\n"
     ]
    }
   ],
   "source": [
    "username = 'allieuslee'\n",
    "password = getpass('Enter password : ')"
   ]
  },
  {
   "cell_type": "code",
   "execution_count": 6,
   "metadata": {},
   "outputs": [
    {
     "data": {
      "text/plain": [
       "(<envelopes.conn.SMTP at 0x7f4ecd7f14e0>, {})"
      ]
     },
     "execution_count": 6,
     "metadata": {},
     "output_type": "execute_result"
    }
   ],
   "source": [
    "from envelopes import Envelope, GMailSMTP\n",
    "\n",
    "envelope = Envelope(\n",
    "    from_addr=(username + '@naver.com', username),\n",
    "    to_addr=('me@askcompany.kr', 'Chinseok Lee'),\n",
    "    subject='SMTP 테스트 메일',\n",
    "    text_body=\"메일 내용\"\n",
    ")\n",
    "# envelope.add_attachment('/Users/bilbo/Pictures/helicopter.jpg')\n",
    "\n",
    "# Send the envelope using an ad-hoc connection...\n",
    "envelope.send('smtp.naver.com', login=username,\n",
    "              password=password, tls=True)\n"
   ]
  },
  {
   "cell_type": "code",
   "execution_count": null,
   "metadata": {
    "collapsed": true
   },
   "outputs": [],
   "source": []
  },
  {
   "cell_type": "code",
   "execution_count": null,
   "metadata": {
    "collapsed": true
   },
   "outputs": [],
   "source": []
  },
  {
   "cell_type": "markdown",
   "metadata": {},
   "source": [
    "## Melon Chart Data\n",
    "\n",
    "csv file url : https://bit.ly/2zQyAbb"
   ]
  },
  {
   "cell_type": "code",
   "execution_count": 8,
   "metadata": {
    "collapsed": true
   },
   "outputs": [],
   "source": [
    "chart_csv_url = 'https://gist.githubusercontent.com/allieus/7de81753be54c716cb4a19ebf6852c06/raw/6f59975c4b9aec6cacc7c84edce368d957c670cd/%25E1%2584%2586%25E1%2585%25A6%25E1%2586%25AF%25E1%2584%2585%25E1%2585%25A9%25E1%2586%25AB_top100_utf8.csv'"
   ]
  },
  {
   "cell_type": "code",
   "execution_count": 9,
   "metadata": {
    "collapsed": true
   },
   "outputs": [],
   "source": [
    "import requests\n",
    "res = requests.get(chart_csv_url)\n",
    "csv_data = res.text  # str\n",
    "\n",
    "with open(\"멜론_top100_utf8.csv\", \"wt\", encoding=\"utf8\") as f:\n",
    "    f.write(csv_data)"
   ]
  },
  {
   "cell_type": "code",
   "execution_count": 11,
   "metadata": {
    "collapsed": true
   },
   "outputs": [],
   "source": [
    "import pandas as pd"
   ]
  },
  {
   "cell_type": "code",
   "execution_count": 19,
   "metadata": {},
   "outputs": [
    {
     "name": "stdout",
     "output_type": "stream",
     "text": [
      "(100, 5)\n"
     ]
    },
    {
     "data": {
      "text/html": [
       "<div>\n",
       "<style scoped>\n",
       "    .dataframe tbody tr th:only-of-type {\n",
       "        vertical-align: middle;\n",
       "    }\n",
       "\n",
       "    .dataframe tbody tr th {\n",
       "        vertical-align: top;\n",
       "    }\n",
       "\n",
       "    .dataframe thead th {\n",
       "        text-align: right;\n",
       "    }\n",
       "</style>\n",
       "<table border=\"1\" class=\"dataframe\">\n",
       "  <thead>\n",
       "    <tr style=\"text-align: right;\">\n",
       "      <th></th>\n",
       "      <th>id</th>\n",
       "      <th>album_name</th>\n",
       "      <th>artist_name</th>\n",
       "      <th>like</th>\n",
       "      <th>name</th>\n",
       "    </tr>\n",
       "    <tr>\n",
       "      <th>rank</th>\n",
       "      <th></th>\n",
       "      <th></th>\n",
       "      <th></th>\n",
       "      <th></th>\n",
       "      <th></th>\n",
       "    </tr>\n",
       "  </thead>\n",
       "  <tbody>\n",
       "    <tr>\n",
       "      <th>1</th>\n",
       "      <td>31131273</td>\n",
       "      <td>SQUARE UP</td>\n",
       "      <td>BLACKPINK</td>\n",
       "      <td>117794</td>\n",
       "      <td>뚜두뚜두 (DDU-DU DDU-DU)</td>\n",
       "    </tr>\n",
       "    <tr>\n",
       "      <th>2</th>\n",
       "      <td>31133898</td>\n",
       "      <td>THIS IS US</td>\n",
       "      <td>비투비</td>\n",
       "      <td>79865</td>\n",
       "      <td>너 없인 안 된다</td>\n",
       "    </tr>\n",
       "    <tr>\n",
       "      <th>3</th>\n",
       "      <td>31085237</td>\n",
       "      <td>LOVE YOURSELF 轉 `Tear`</td>\n",
       "      <td>방탄소년단</td>\n",
       "      <td>211860</td>\n",
       "      <td>FAKE LOVE</td>\n",
       "    </tr>\n",
       "    <tr>\n",
       "      <th>4</th>\n",
       "      <td>31113240</td>\n",
       "      <td>1÷χ=1 (UNDIVIDED)</td>\n",
       "      <td>Wanna One (워너원)</td>\n",
       "      <td>100398</td>\n",
       "      <td>켜줘 (Light)</td>\n",
       "    </tr>\n",
       "    <tr>\n",
       "      <th>5</th>\n",
       "      <td>31113241</td>\n",
       "      <td>1÷χ=1 (UNDIVIDED)</td>\n",
       "      <td>Wanna One (워너원) - 트리플포지션</td>\n",
       "      <td>88135</td>\n",
       "      <td>캥거루 (Kangaroo) (Prod. ZICO)</td>\n",
       "    </tr>\n",
       "  </tbody>\n",
       "</table>\n",
       "</div>"
      ],
      "text/plain": [
       "            id              album_name               artist_name    like  \\\n",
       "rank                                                                       \n",
       "1     31131273               SQUARE UP                 BLACKPINK  117794   \n",
       "2     31133898              THIS IS US                       비투비   79865   \n",
       "3     31085237  LOVE YOURSELF 轉 `Tear`                     방탄소년단  211860   \n",
       "4     31113240       1÷χ=1 (UNDIVIDED)           Wanna One (워너원)  100398   \n",
       "5     31113241       1÷χ=1 (UNDIVIDED)  Wanna One (워너원) - 트리플포지션   88135   \n",
       "\n",
       "                             name  \n",
       "rank                               \n",
       "1            뚜두뚜두 (DDU-DU DDU-DU)  \n",
       "2                       너 없인 안 된다  \n",
       "3                       FAKE LOVE  \n",
       "4                      켜줘 (Light)  \n",
       "5     캥거루 (Kangaroo) (Prod. ZICO)  "
      ]
     },
     "execution_count": 19,
     "metadata": {},
     "output_type": "execute_result"
    }
   ],
   "source": [
    "df = pd.read_csv(\"멜론_top100_utf8.csv\")  # DataFrame\n",
    "df.index = range(1, 101)\n",
    "df.index.name = 'rank'\n",
    "print(df.shape)\n",
    "df.head()"
   ]
  },
  {
   "cell_type": "code",
   "execution_count": 18,
   "metadata": {},
   "outputs": [
    {
     "data": {
      "text/html": [
       "<div>\n",
       "<style scoped>\n",
       "    .dataframe tbody tr th:only-of-type {\n",
       "        vertical-align: middle;\n",
       "    }\n",
       "\n",
       "    .dataframe tbody tr th {\n",
       "        vertical-align: top;\n",
       "    }\n",
       "\n",
       "    .dataframe thead th {\n",
       "        text-align: right;\n",
       "    }\n",
       "</style>\n",
       "<table border=\"1\" class=\"dataframe\">\n",
       "  <thead>\n",
       "    <tr style=\"text-align: right;\">\n",
       "      <th></th>\n",
       "      <th>id</th>\n",
       "      <th>album_name</th>\n",
       "      <th>artist_name</th>\n",
       "      <th>like</th>\n",
       "      <th>name</th>\n",
       "    </tr>\n",
       "  </thead>\n",
       "  <tbody>\n",
       "    <tr>\n",
       "      <th>95</th>\n",
       "      <td>31056799</td>\n",
       "      <td>잊을만하면</td>\n",
       "      <td>Crush</td>\n",
       "      <td>63562</td>\n",
       "      <td>잊을만하면</td>\n",
       "    </tr>\n",
       "    <tr>\n",
       "      <th>96</th>\n",
       "      <td>31097928</td>\n",
       "      <td>`The Story of Light` EP.1 - The 6th Album</td>\n",
       "      <td>SHINee (샤이니)</td>\n",
       "      <td>22621</td>\n",
       "      <td>안녕 (You &amp; I)</td>\n",
       "    </tr>\n",
       "    <tr>\n",
       "      <th>97</th>\n",
       "      <td>31149418</td>\n",
       "      <td>Fun to The World</td>\n",
       "      <td>모모랜드 (MOMOLAND)</td>\n",
       "      <td>8500</td>\n",
       "      <td>BAAM</td>\n",
       "    </tr>\n",
       "    <tr>\n",
       "      <th>98</th>\n",
       "      <td>8235260</td>\n",
       "      <td>비</td>\n",
       "      <td>폴킴</td>\n",
       "      <td>113103</td>\n",
       "      <td>비</td>\n",
       "    </tr>\n",
       "    <tr>\n",
       "      <th>99</th>\n",
       "      <td>30992157</td>\n",
       "      <td>Positive</td>\n",
       "      <td>펜타곤</td>\n",
       "      <td>75451</td>\n",
       "      <td>빛나리</td>\n",
       "    </tr>\n",
       "  </tbody>\n",
       "</table>\n",
       "</div>"
      ],
      "text/plain": [
       "          id                                 album_name      artist_name  \\\n",
       "95  31056799                                      잊을만하면            Crush   \n",
       "96  31097928  `The Story of Light` EP.1 - The 6th Album     SHINee (샤이니)   \n",
       "97  31149418                           Fun to The World  모모랜드 (MOMOLAND)   \n",
       "98   8235260                                          비               폴킴   \n",
       "99  30992157                                   Positive              펜타곤   \n",
       "\n",
       "      like          name  \n",
       "95   63562         잊을만하면  \n",
       "96   22621  안녕 (You & I)  \n",
       "97    8500          BAAM  \n",
       "98  113103             비  \n",
       "99   75451           빛나리  "
      ]
     },
     "execution_count": 18,
     "metadata": {},
     "output_type": "execute_result"
    }
   ],
   "source": [
    "df.tail()"
   ]
  },
  {
   "cell_type": "code",
   "execution_count": 28,
   "metadata": {},
   "outputs": [
    {
     "data": {
      "text/html": [
       "<div>\n",
       "<style scoped>\n",
       "    .dataframe tbody tr th:only-of-type {\n",
       "        vertical-align: middle;\n",
       "    }\n",
       "\n",
       "    .dataframe tbody tr th {\n",
       "        vertical-align: top;\n",
       "    }\n",
       "\n",
       "    .dataframe thead th {\n",
       "        text-align: right;\n",
       "    }\n",
       "</style>\n",
       "<table border=\"1\" class=\"dataframe\">\n",
       "  <thead>\n",
       "    <tr style=\"text-align: right;\">\n",
       "      <th></th>\n",
       "      <th>artist_name</th>\n",
       "      <th>like</th>\n",
       "    </tr>\n",
       "    <tr>\n",
       "      <th>rank</th>\n",
       "      <th></th>\n",
       "      <th></th>\n",
       "    </tr>\n",
       "  </thead>\n",
       "  <tbody>\n",
       "    <tr>\n",
       "      <th>1</th>\n",
       "      <td>BLACKPINK</td>\n",
       "      <td>117794</td>\n",
       "    </tr>\n",
       "    <tr>\n",
       "      <th>2</th>\n",
       "      <td>비투비</td>\n",
       "      <td>79865</td>\n",
       "    </tr>\n",
       "    <tr>\n",
       "      <th>3</th>\n",
       "      <td>방탄소년단</td>\n",
       "      <td>211860</td>\n",
       "    </tr>\n",
       "    <tr>\n",
       "      <th>4</th>\n",
       "      <td>Wanna One (워너원)</td>\n",
       "      <td>100398</td>\n",
       "    </tr>\n",
       "    <tr>\n",
       "      <th>5</th>\n",
       "      <td>Wanna One (워너원) - 트리플포지션</td>\n",
       "      <td>88135</td>\n",
       "    </tr>\n",
       "  </tbody>\n",
       "</table>\n",
       "</div>"
      ],
      "text/plain": [
       "                   artist_name    like\n",
       "rank                                  \n",
       "1                    BLACKPINK  117794\n",
       "2                          비투비   79865\n",
       "3                        방탄소년단  211860\n",
       "4              Wanna One (워너원)  100398\n",
       "5     Wanna One (워너원) - 트리플포지션   88135"
      ]
     },
     "execution_count": 28,
     "metadata": {},
     "output_type": "execute_result"
    }
   ],
   "source": [
    "column_names = ['artist_name', 'like']\n",
    "df[column_names].head()"
   ]
  },
  {
   "cell_type": "code",
   "execution_count": 29,
   "metadata": {},
   "outputs": [
    {
     "data": {
      "text/plain": [
       "rank\n",
       "1                   BLACKPINK\n",
       "2                         비투비\n",
       "3                       방탄소년단\n",
       "4             Wanna One (워너원)\n",
       "5    Wanna One (워너원) - 트리플포지션\n",
       "Name: artist_name, dtype: object"
      ]
     },
     "execution_count": 29,
     "metadata": {},
     "output_type": "execute_result"
    }
   ],
   "source": [
    "column_names = 'artist_name'\n",
    "df[column_names].head()"
   ]
  },
  {
   "cell_type": "code",
   "execution_count": 30,
   "metadata": {},
   "outputs": [
    {
     "data": {
      "text/html": [
       "<div>\n",
       "<style scoped>\n",
       "    .dataframe tbody tr th:only-of-type {\n",
       "        vertical-align: middle;\n",
       "    }\n",
       "\n",
       "    .dataframe tbody tr th {\n",
       "        vertical-align: top;\n",
       "    }\n",
       "\n",
       "    .dataframe thead th {\n",
       "        text-align: right;\n",
       "    }\n",
       "</style>\n",
       "<table border=\"1\" class=\"dataframe\">\n",
       "  <thead>\n",
       "    <tr style=\"text-align: right;\">\n",
       "      <th></th>\n",
       "      <th>artist_name</th>\n",
       "    </tr>\n",
       "    <tr>\n",
       "      <th>rank</th>\n",
       "      <th></th>\n",
       "    </tr>\n",
       "  </thead>\n",
       "  <tbody>\n",
       "    <tr>\n",
       "      <th>1</th>\n",
       "      <td>BLACKPINK</td>\n",
       "    </tr>\n",
       "    <tr>\n",
       "      <th>2</th>\n",
       "      <td>비투비</td>\n",
       "    </tr>\n",
       "    <tr>\n",
       "      <th>3</th>\n",
       "      <td>방탄소년단</td>\n",
       "    </tr>\n",
       "    <tr>\n",
       "      <th>4</th>\n",
       "      <td>Wanna One (워너원)</td>\n",
       "    </tr>\n",
       "    <tr>\n",
       "      <th>5</th>\n",
       "      <td>Wanna One (워너원) - 트리플포지션</td>\n",
       "    </tr>\n",
       "  </tbody>\n",
       "</table>\n",
       "</div>"
      ],
      "text/plain": [
       "                   artist_name\n",
       "rank                          \n",
       "1                    BLACKPINK\n",
       "2                          비투비\n",
       "3                        방탄소년단\n",
       "4              Wanna One (워너원)\n",
       "5     Wanna One (워너원) - 트리플포지션"
      ]
     },
     "execution_count": 30,
     "metadata": {},
     "output_type": "execute_result"
    }
   ],
   "source": [
    "column_names = ['artist_name']\n",
    "df[column_names].head()"
   ]
  },
  {
   "cell_type": "code",
   "execution_count": 33,
   "metadata": {},
   "outputs": [
    {
     "data": {
      "text/html": [
       "<div>\n",
       "<style scoped>\n",
       "    .dataframe tbody tr th:only-of-type {\n",
       "        vertical-align: middle;\n",
       "    }\n",
       "\n",
       "    .dataframe tbody tr th {\n",
       "        vertical-align: top;\n",
       "    }\n",
       "\n",
       "    .dataframe thead th {\n",
       "        text-align: right;\n",
       "    }\n",
       "</style>\n",
       "<table border=\"1\" class=\"dataframe\">\n",
       "  <thead>\n",
       "    <tr style=\"text-align: right;\">\n",
       "      <th></th>\n",
       "      <th>id</th>\n",
       "      <th>album_name</th>\n",
       "      <th>artist_name</th>\n",
       "      <th>like</th>\n",
       "      <th>name</th>\n",
       "    </tr>\n",
       "    <tr>\n",
       "      <th>rank</th>\n",
       "      <th></th>\n",
       "      <th></th>\n",
       "      <th></th>\n",
       "      <th></th>\n",
       "      <th></th>\n",
       "    </tr>\n",
       "  </thead>\n",
       "  <tbody>\n",
       "    <tr>\n",
       "      <th>3</th>\n",
       "      <td>31085237</td>\n",
       "      <td>LOVE YOURSELF 轉 `Tear`</td>\n",
       "      <td>방탄소년단</td>\n",
       "      <td>211860</td>\n",
       "      <td>FAKE LOVE</td>\n",
       "    </tr>\n",
       "    <tr>\n",
       "      <th>9</th>\n",
       "      <td>31085238</td>\n",
       "      <td>LOVE YOURSELF 轉 `Tear`</td>\n",
       "      <td>방탄소년단</td>\n",
       "      <td>134930</td>\n",
       "      <td>전하지 못한 진심 (Feat. Steve Aoki)</td>\n",
       "    </tr>\n",
       "    <tr>\n",
       "      <th>15</th>\n",
       "      <td>30637982</td>\n",
       "      <td>LOVE YOURSELF 承 `Her`</td>\n",
       "      <td>방탄소년단</td>\n",
       "      <td>304450</td>\n",
       "      <td>DNA</td>\n",
       "    </tr>\n",
       "    <tr>\n",
       "      <th>16</th>\n",
       "      <td>31085244</td>\n",
       "      <td>LOVE YOURSELF 轉 `Tear`</td>\n",
       "      <td>방탄소년단</td>\n",
       "      <td>113037</td>\n",
       "      <td>Anpanman</td>\n",
       "    </tr>\n",
       "    <tr>\n",
       "      <th>18</th>\n",
       "      <td>31085243</td>\n",
       "      <td>LOVE YOURSELF 轉 `Tear`</td>\n",
       "      <td>방탄소년단</td>\n",
       "      <td>106641</td>\n",
       "      <td>Airplane pt.2</td>\n",
       "    </tr>\n",
       "    <tr>\n",
       "      <th>19</th>\n",
       "      <td>30244931</td>\n",
       "      <td>YOU NEVER WALK ALONE</td>\n",
       "      <td>방탄소년단</td>\n",
       "      <td>333876</td>\n",
       "      <td>봄날</td>\n",
       "    </tr>\n",
       "    <tr>\n",
       "      <th>21</th>\n",
       "      <td>31085242</td>\n",
       "      <td>LOVE YOURSELF 轉 `Tear`</td>\n",
       "      <td>방탄소년단</td>\n",
       "      <td>109875</td>\n",
       "      <td>Magic Shop</td>\n",
       "    </tr>\n",
       "    <tr>\n",
       "      <th>22</th>\n",
       "      <td>31085240</td>\n",
       "      <td>LOVE YOURSELF 轉 `Tear`</td>\n",
       "      <td>방탄소년단</td>\n",
       "      <td>105457</td>\n",
       "      <td>낙원</td>\n",
       "    </tr>\n",
       "    <tr>\n",
       "      <th>23</th>\n",
       "      <td>31085241</td>\n",
       "      <td>LOVE YOURSELF 轉 `Tear`</td>\n",
       "      <td>방탄소년단</td>\n",
       "      <td>104916</td>\n",
       "      <td>Love Maze</td>\n",
       "    </tr>\n",
       "    <tr>\n",
       "      <th>24</th>\n",
       "      <td>31085239</td>\n",
       "      <td>LOVE YOURSELF 轉 `Tear`</td>\n",
       "      <td>방탄소년단</td>\n",
       "      <td>104839</td>\n",
       "      <td>134340</td>\n",
       "    </tr>\n",
       "    <tr>\n",
       "      <th>26</th>\n",
       "      <td>31085245</td>\n",
       "      <td>LOVE YOURSELF 轉 `Tear`</td>\n",
       "      <td>방탄소년단</td>\n",
       "      <td>95450</td>\n",
       "      <td>So What</td>\n",
       "    </tr>\n",
       "    <tr>\n",
       "      <th>27</th>\n",
       "      <td>31085236</td>\n",
       "      <td>LOVE YOURSELF 轉 `Tear`</td>\n",
       "      <td>방탄소년단</td>\n",
       "      <td>97169</td>\n",
       "      <td>Intro : Singularity</td>\n",
       "    </tr>\n",
       "    <tr>\n",
       "      <th>29</th>\n",
       "      <td>31085246</td>\n",
       "      <td>LOVE YOURSELF 轉 `Tear`</td>\n",
       "      <td>방탄소년단</td>\n",
       "      <td>90980</td>\n",
       "      <td>Outro : Tear</td>\n",
       "    </tr>\n",
       "    <tr>\n",
       "      <th>42</th>\n",
       "      <td>31113142</td>\n",
       "      <td>FAKE LOVE (Rocking Vibe Mix)</td>\n",
       "      <td>방탄소년단</td>\n",
       "      <td>56373</td>\n",
       "      <td>FAKE LOVE (Rocking Vibe Mix)</td>\n",
       "    </tr>\n",
       "  </tbody>\n",
       "</table>\n",
       "</div>"
      ],
      "text/plain": [
       "            id                    album_name artist_name    like  \\\n",
       "rank                                                               \n",
       "3     31085237        LOVE YOURSELF 轉 `Tear`       방탄소년단  211860   \n",
       "9     31085238        LOVE YOURSELF 轉 `Tear`       방탄소년단  134930   \n",
       "15    30637982         LOVE YOURSELF 承 `Her`       방탄소년단  304450   \n",
       "16    31085244        LOVE YOURSELF 轉 `Tear`       방탄소년단  113037   \n",
       "18    31085243        LOVE YOURSELF 轉 `Tear`       방탄소년단  106641   \n",
       "19    30244931          YOU NEVER WALK ALONE       방탄소년단  333876   \n",
       "21    31085242        LOVE YOURSELF 轉 `Tear`       방탄소년단  109875   \n",
       "22    31085240        LOVE YOURSELF 轉 `Tear`       방탄소년단  105457   \n",
       "23    31085241        LOVE YOURSELF 轉 `Tear`       방탄소년단  104916   \n",
       "24    31085239        LOVE YOURSELF 轉 `Tear`       방탄소년단  104839   \n",
       "26    31085245        LOVE YOURSELF 轉 `Tear`       방탄소년단   95450   \n",
       "27    31085236        LOVE YOURSELF 轉 `Tear`       방탄소년단   97169   \n",
       "29    31085246        LOVE YOURSELF 轉 `Tear`       방탄소년단   90980   \n",
       "42    31113142  FAKE LOVE (Rocking Vibe Mix)       방탄소년단   56373   \n",
       "\n",
       "                              name  \n",
       "rank                                \n",
       "3                        FAKE LOVE  \n",
       "9     전하지 못한 진심 (Feat. Steve Aoki)  \n",
       "15                             DNA  \n",
       "16                        Anpanman  \n",
       "18                   Airplane pt.2  \n",
       "19                              봄날  \n",
       "21                      Magic Shop  \n",
       "22                              낙원  \n",
       "23                       Love Maze  \n",
       "24                          134340  \n",
       "26                         So What  \n",
       "27             Intro : Singularity  \n",
       "29                    Outro : Tear  \n",
       "42    FAKE LOVE (Rocking Vibe Mix)  "
      ]
     },
     "execution_count": 33,
     "metadata": {},
     "output_type": "execute_result"
    }
   ],
   "source": [
    "mask = df['artist_name'] == '방탄소년단'\n",
    "df[mask]"
   ]
  },
  {
   "cell_type": "code",
   "execution_count": 35,
   "metadata": {},
   "outputs": [
    {
     "data": {
      "text/plain": [
       "Index(['id', 'album_name', 'artist_name', 'like', 'name'], dtype='object')"
      ]
     },
     "execution_count": 35,
     "metadata": {},
     "output_type": "execute_result"
    }
   ],
   "source": [
    "df.columns"
   ]
  },
  {
   "cell_type": "code",
   "execution_count": 38,
   "metadata": {},
   "outputs": [
    {
     "name": "stdout",
     "output_type": "stream",
     "text": [
      "(100, 6)\n"
     ]
    },
    {
     "data": {
      "text/html": [
       "<div>\n",
       "<style scoped>\n",
       "    .dataframe tbody tr th:only-of-type {\n",
       "        vertical-align: middle;\n",
       "    }\n",
       "\n",
       "    .dataframe tbody tr th {\n",
       "        vertical-align: top;\n",
       "    }\n",
       "\n",
       "    .dataframe thead th {\n",
       "        text-align: right;\n",
       "    }\n",
       "</style>\n",
       "<table border=\"1\" class=\"dataframe\">\n",
       "  <thead>\n",
       "    <tr style=\"text-align: right;\">\n",
       "      <th></th>\n",
       "      <th>id</th>\n",
       "      <th>album_name</th>\n",
       "      <th>artist_name</th>\n",
       "      <th>like</th>\n",
       "      <th>name</th>\n",
       "      <th>like_만단위</th>\n",
       "    </tr>\n",
       "    <tr>\n",
       "      <th>rank</th>\n",
       "      <th></th>\n",
       "      <th></th>\n",
       "      <th></th>\n",
       "      <th></th>\n",
       "      <th></th>\n",
       "      <th></th>\n",
       "    </tr>\n",
       "  </thead>\n",
       "  <tbody>\n",
       "    <tr>\n",
       "      <th>1</th>\n",
       "      <td>31131273</td>\n",
       "      <td>SQUARE UP</td>\n",
       "      <td>BLACKPINK</td>\n",
       "      <td>117794</td>\n",
       "      <td>뚜두뚜두 (DDU-DU DDU-DU)</td>\n",
       "      <td>11</td>\n",
       "    </tr>\n",
       "    <tr>\n",
       "      <th>2</th>\n",
       "      <td>31133898</td>\n",
       "      <td>THIS IS US</td>\n",
       "      <td>비투비</td>\n",
       "      <td>79865</td>\n",
       "      <td>너 없인 안 된다</td>\n",
       "      <td>7</td>\n",
       "    </tr>\n",
       "    <tr>\n",
       "      <th>3</th>\n",
       "      <td>31085237</td>\n",
       "      <td>LOVE YOURSELF 轉 `Tear`</td>\n",
       "      <td>방탄소년단</td>\n",
       "      <td>211860</td>\n",
       "      <td>FAKE LOVE</td>\n",
       "      <td>21</td>\n",
       "    </tr>\n",
       "    <tr>\n",
       "      <th>4</th>\n",
       "      <td>31113240</td>\n",
       "      <td>1÷χ=1 (UNDIVIDED)</td>\n",
       "      <td>Wanna One (워너원)</td>\n",
       "      <td>100398</td>\n",
       "      <td>켜줘 (Light)</td>\n",
       "      <td>10</td>\n",
       "    </tr>\n",
       "    <tr>\n",
       "      <th>5</th>\n",
       "      <td>31113241</td>\n",
       "      <td>1÷χ=1 (UNDIVIDED)</td>\n",
       "      <td>Wanna One (워너원) - 트리플포지션</td>\n",
       "      <td>88135</td>\n",
       "      <td>캥거루 (Kangaroo) (Prod. ZICO)</td>\n",
       "      <td>8</td>\n",
       "    </tr>\n",
       "  </tbody>\n",
       "</table>\n",
       "</div>"
      ],
      "text/plain": [
       "            id              album_name               artist_name    like  \\\n",
       "rank                                                                       \n",
       "1     31131273               SQUARE UP                 BLACKPINK  117794   \n",
       "2     31133898              THIS IS US                       비투비   79865   \n",
       "3     31085237  LOVE YOURSELF 轉 `Tear`                     방탄소년단  211860   \n",
       "4     31113240       1÷χ=1 (UNDIVIDED)           Wanna One (워너원)  100398   \n",
       "5     31113241       1÷χ=1 (UNDIVIDED)  Wanna One (워너원) - 트리플포지션   88135   \n",
       "\n",
       "                             name  like_만단위  \n",
       "rank                                         \n",
       "1            뚜두뚜두 (DDU-DU DDU-DU)        11  \n",
       "2                       너 없인 안 된다         7  \n",
       "3                       FAKE LOVE        21  \n",
       "4                      켜줘 (Light)        10  \n",
       "5     캥거루 (Kangaroo) (Prod. ZICO)         8  "
      ]
     },
     "execution_count": 38,
     "metadata": {},
     "output_type": "execute_result"
    }
   ],
   "source": [
    "df['like_만단위'] = df['like'] // 10000\n",
    "print(df.shape)\n",
    "df.head()"
   ]
  },
  {
   "cell_type": "code",
   "execution_count": 41,
   "metadata": {},
   "outputs": [
    {
     "data": {
      "text/plain": [
       "'11만'"
      ]
     },
     "execution_count": 41,
     "metadata": {},
     "output_type": "execute_result"
    }
   ],
   "source": [
    "str(11) + '만'"
   ]
  },
  {
   "cell_type": "code",
   "execution_count": 45,
   "metadata": {},
   "outputs": [
    {
     "name": "stdout",
     "output_type": "stream",
     "text": [
      "(100, 6)\n"
     ]
    },
    {
     "data": {
      "text/html": [
       "<div>\n",
       "<style scoped>\n",
       "    .dataframe tbody tr th:only-of-type {\n",
       "        vertical-align: middle;\n",
       "    }\n",
       "\n",
       "    .dataframe tbody tr th {\n",
       "        vertical-align: top;\n",
       "    }\n",
       "\n",
       "    .dataframe thead th {\n",
       "        text-align: right;\n",
       "    }\n",
       "</style>\n",
       "<table border=\"1\" class=\"dataframe\">\n",
       "  <thead>\n",
       "    <tr style=\"text-align: right;\">\n",
       "      <th></th>\n",
       "      <th>id</th>\n",
       "      <th>album_name</th>\n",
       "      <th>artist_name</th>\n",
       "      <th>like</th>\n",
       "      <th>name</th>\n",
       "      <th>like_만단위</th>\n",
       "    </tr>\n",
       "    <tr>\n",
       "      <th>rank</th>\n",
       "      <th></th>\n",
       "      <th></th>\n",
       "      <th></th>\n",
       "      <th></th>\n",
       "      <th></th>\n",
       "      <th></th>\n",
       "    </tr>\n",
       "  </thead>\n",
       "  <tbody>\n",
       "    <tr>\n",
       "      <th>1</th>\n",
       "      <td>31131273</td>\n",
       "      <td>SQUARE UP</td>\n",
       "      <td>BLACKPINK</td>\n",
       "      <td>117794</td>\n",
       "      <td>뚜두뚜두 (DDU-DU DDU-DU)</td>\n",
       "      <td>11만</td>\n",
       "    </tr>\n",
       "    <tr>\n",
       "      <th>2</th>\n",
       "      <td>31133898</td>\n",
       "      <td>THIS IS US</td>\n",
       "      <td>비투비</td>\n",
       "      <td>79865</td>\n",
       "      <td>너 없인 안 된다</td>\n",
       "      <td>7만</td>\n",
       "    </tr>\n",
       "    <tr>\n",
       "      <th>3</th>\n",
       "      <td>31085237</td>\n",
       "      <td>LOVE YOURSELF 轉 `Tear`</td>\n",
       "      <td>방탄소년단</td>\n",
       "      <td>211860</td>\n",
       "      <td>FAKE LOVE</td>\n",
       "      <td>21만</td>\n",
       "    </tr>\n",
       "    <tr>\n",
       "      <th>4</th>\n",
       "      <td>31113240</td>\n",
       "      <td>1÷χ=1 (UNDIVIDED)</td>\n",
       "      <td>Wanna One (워너원)</td>\n",
       "      <td>100398</td>\n",
       "      <td>켜줘 (Light)</td>\n",
       "      <td>10만</td>\n",
       "    </tr>\n",
       "    <tr>\n",
       "      <th>5</th>\n",
       "      <td>31113241</td>\n",
       "      <td>1÷χ=1 (UNDIVIDED)</td>\n",
       "      <td>Wanna One (워너원) - 트리플포지션</td>\n",
       "      <td>88135</td>\n",
       "      <td>캥거루 (Kangaroo) (Prod. ZICO)</td>\n",
       "      <td>8만</td>\n",
       "    </tr>\n",
       "  </tbody>\n",
       "</table>\n",
       "</div>"
      ],
      "text/plain": [
       "            id              album_name               artist_name    like  \\\n",
       "rank                                                                       \n",
       "1     31131273               SQUARE UP                 BLACKPINK  117794   \n",
       "2     31133898              THIS IS US                       비투비   79865   \n",
       "3     31085237  LOVE YOURSELF 轉 `Tear`                     방탄소년단  211860   \n",
       "4     31113240       1÷χ=1 (UNDIVIDED)           Wanna One (워너원)  100398   \n",
       "5     31113241       1÷χ=1 (UNDIVIDED)  Wanna One (워너원) - 트리플포지션   88135   \n",
       "\n",
       "                             name like_만단위  \n",
       "rank                                        \n",
       "1            뚜두뚜두 (DDU-DU DDU-DU)      11만  \n",
       "2                       너 없인 안 된다       7만  \n",
       "3                       FAKE LOVE      21만  \n",
       "4                      켜줘 (Light)      10만  \n",
       "5     캥거루 (Kangaroo) (Prod. ZICO)       8만  "
      ]
     },
     "execution_count": 45,
     "metadata": {},
     "output_type": "execute_result"
    }
   ],
   "source": [
    "df['like_만단위'] = (df['like'] // 10000).astype(str) + '만'\n",
    "print(df.shape)\n",
    "df.head()"
   ]
  },
  {
   "cell_type": "markdown",
   "metadata": {},
   "source": [
    "## 10 Minutes to Pandas\n",
    "\n",
    "https://pandas.pydata.org/pandas-docs/stable/10min.html"
   ]
  },
  {
   "cell_type": "code",
   "execution_count": null,
   "metadata": {
    "collapsed": true
   },
   "outputs": [],
   "source": []
  },
  {
   "cell_type": "markdown",
   "metadata": {},
   "source": [
    "## Raspberry Pi3 Setup"
   ]
  },
  {
   "cell_type": "code",
   "execution_count": null,
   "metadata": {
    "collapsed": true
   },
   "outputs": [],
   "source": []
  }
 ],
 "metadata": {
  "kernelspec": {
   "display_name": "Python 3",
   "language": "python",
   "name": "python3"
  },
  "language_info": {
   "codemirror_mode": {
    "name": "ipython",
    "version": 3
   },
   "file_extension": ".py",
   "mimetype": "text/x-python",
   "name": "python",
   "nbconvert_exporter": "python",
   "pygments_lexer": "ipython3",
   "version": "3.6.5"
  }
 },
 "nbformat": 4,
 "nbformat_minor": 2
}

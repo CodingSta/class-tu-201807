{
 "cells": [
  {
   "cell_type": "markdown",
   "metadata": {},
   "source": [
    "## Connect SSH to Goorm IDE\n",
    "\n",
    "+ [windows] PuTTy\n",
    "+ SSH Port : 22 (Well Known Port)\n",
    "\n",
    "### 한글 설정\n",
    "\n",
    "시스템 전체의 locale을 변경\n",
    "\n",
    "```\n",
    "sudo locale-gen ko_KR.UTF-8\n",
    "```\n",
    "\n",
    "`~/.bashrc` 파일에 다음 추가 (nano 혹은 vim 에디터 활용)\n",
    "\n",
    "```\n",
    "export LANG=ko_KR.UTF-8\n",
    "```\n",
    "\n",
    "PuTTy 재접속"
   ]
  },
  {
   "cell_type": "code",
   "execution_count": null,
   "metadata": {
    "collapsed": true
   },
   "outputs": [],
   "source": []
  },
  {
   "cell_type": "markdown",
   "metadata": {},
   "source": [
    "## GitHub\n",
    "\n",
    "Public/Private Key"
   ]
  },
  {
   "cell_type": "markdown",
   "metadata": {
    "collapsed": true
   },
   "source": [
    "### Goorm IDE\n",
    "\n",
    "`ssh-keygen`  명령으로 비밀키/공개키를 만들었고, 공개키를 깃허브에 심었음."
   ]
  },
  {
   "cell_type": "markdown",
   "metadata": {},
   "source": [
    "git email/name을 세팅한 적이 없다면\n",
    "\n",
    "```\n",
    "git config --global user.name \"Chinseok Lee\"\n",
    "git config --global user.email \"me@askcompany.kr\"\n",
    "```"
   ]
  },
  {
   "cell_type": "markdown",
   "metadata": {},
   "source": [
    "프로젝트 디렉토리로 이동해서,\n",
    "\n",
    "```\n",
    "git init                     # git 관리 대상으로 지정\n",
    "git add Day1.ipynb           # git에서 관리할 파일을 지정\n",
    "git status                   # 현재 현황 보기\n",
    "git commit -m \"커밋 메세지\"  # add된 여러 파일들을 커밋\n",
    "git log                      # 로그 내역 보기\n",
    "```"
   ]
  },
  {
   "cell_type": "markdown",
   "metadata": {},
   "source": [
    "github 해당 저장소로 push\n",
    "\n",
    "```\n",
    "git remote add origin git@github.com:allieus/python-for-ml.git\n",
    "git push -u origin master\n",
    "```"
   ]
  },
  {
   "cell_type": "code",
   "execution_count": null,
   "metadata": {
    "collapsed": true
   },
   "outputs": [],
   "source": []
  },
  {
   "cell_type": "markdown",
   "metadata": {},
   "source": [
    "## AWS EC2 Cloud"
   ]
  },
  {
   "cell_type": "code",
   "execution_count": null,
   "metadata": {
    "collapsed": true
   },
   "outputs": [],
   "source": []
  },
  {
   "cell_type": "markdown",
   "metadata": {},
   "source": [
    "## re (regular expression)"
   ]
  },
  {
   "cell_type": "code",
   "execution_count": null,
   "metadata": {
    "collapsed": true
   },
   "outputs": [],
   "source": []
  },
  {
   "cell_type": "markdown",
   "metadata": {},
   "source": [
    "## Email\n",
    "\n",
    "https://github.com/vinta/awesome-python#email"
   ]
  },
  {
   "cell_type": "code",
   "execution_count": null,
   "metadata": {
    "collapsed": true
   },
   "outputs": [],
   "source": []
  },
  {
   "cell_type": "markdown",
   "metadata": {},
   "source": [
    "## Melon Chart Data\n",
    "\n",
    "csv file url : https://bit.ly/2zQyAbb"
   ]
  },
  {
   "cell_type": "code",
   "execution_count": 2,
   "metadata": {
    "collapsed": true
   },
   "outputs": [],
   "source": [
    "chart_csv_url = 'https://gist.githubusercontent.com/allieus/7de81753be54c716cb4a19ebf6852c06/raw/6f59975c4b9aec6cacc7c84edce368d957c670cd/%25E1%2584%2586%25E1%2585%25A6%25E1%2586%25AF%25E1%2584%2585%25E1%2585%25A9%25E1%2586%25AB_top100_utf8.csv'"
   ]
  },
  {
   "cell_type": "code",
   "execution_count": 6,
   "metadata": {
    "collapsed": true
   },
   "outputs": [],
   "source": [
    "import requests\n",
    "res = requests.get(chart_csv_url)\n",
    "csv_data = res.text"
   ]
  },
  {
   "cell_type": "code",
   "execution_count": 5,
   "metadata": {
    "collapsed": true
   },
   "outputs": [],
   "source": []
  },
  {
   "cell_type": "code",
   "execution_count": null,
   "metadata": {
    "collapsed": true
   },
   "outputs": [],
   "source": []
  },
  {
   "cell_type": "markdown",
   "metadata": {},
   "source": [
    "## 10 Minutes to Pandas\n",
    "\n",
    "https://pandas.pydata.org/pandas-docs/stable/10min.html"
   ]
  },
  {
   "cell_type": "code",
   "execution_count": null,
   "metadata": {
    "collapsed": true
   },
   "outputs": [],
   "source": []
  },
  {
   "cell_type": "markdown",
   "metadata": {},
   "source": [
    "## Raspberry Pi3 Setup"
   ]
  },
  {
   "cell_type": "code",
   "execution_count": null,
   "metadata": {
    "collapsed": true
   },
   "outputs": [],
   "source": []
  }
 ],
 "metadata": {
  "kernelspec": {
   "display_name": "Python 3",
   "language": "python",
   "name": "python3"
  },
  "language_info": {
   "codemirror_mode": {
    "name": "ipython",
    "version": 3
   },
   "file_extension": ".py",
   "mimetype": "text/x-python",
   "name": "python",
   "nbconvert_exporter": "python",
   "pygments_lexer": "ipython3",
   "version": "3.6.5"
  }
 },
 "nbformat": 4,
 "nbformat_minor": 2
}
